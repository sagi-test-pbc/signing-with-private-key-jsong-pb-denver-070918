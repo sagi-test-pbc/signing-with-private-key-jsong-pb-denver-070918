{
 "cells": [
  {
   "cell_type": "markdown",
   "metadata": {},
   "source": [
    "# Signing with a Private Key"
   ]
  },
  {
   "cell_type": "code",
   "execution_count": null,
   "metadata": {},
   "outputs": [],
   "source": [
    "# Signing Example\n",
    "from random import randint\n",
    "\n",
    "from ecc import G, N\n",
    "from helper import double_sha256\n",
    "\n",
    "secret = 1800555555518005555555\n",
    "z = int.from_bytes(double_sha256(b'ECDSA is awesome!'), 'big')\n",
    "k = randint(0, 2**256)\n",
    "r = (k*G).x.num\n",
    "s = (z+r*secret) * pow(k, N-2, N) % N\n",
    "print(hex(z), hex(r), hex(s))\n",
    "print(secret*G)"
   ]
  },
  {
   "cell_type": "markdown",
   "metadata": {},
   "source": [
    "## Test Driven Exercise"
   ]
  },
  {
   "cell_type": "code",
   "execution_count": null,
   "metadata": {},
   "outputs": [],
   "source": [
    "from ecc import PrivateKey, Signature, G, N\n",
    "from random import randint\n",
    "        \n",
    "class PrivateKey(PrivateKey):\n",
    "    \n",
    "    def sign(self, z):\n",
    "        # we need a random number k: randint(0, 2**256)\n",
    "        # r is the x coordinate of the resulting point k*G\n",
    "        # remember 1/k = pow(k, N-2, N)\n",
    "        # s = (z+r*secret) / k\n",
    "        # return an instance of Signature:\n",
    "        # Signature(r, s)\n",
    "        pass"
   ]
  }
 ],
 "metadata": {
  "kernelspec": {
   "display_name": "Python 3",
   "language": "python",
   "name": "python3"
  },
  "language_info": {
   "codemirror_mode": {
    "name": "ipython",
    "version": 3
   },
   "file_extension": ".py",
   "mimetype": "text/x-python",
   "name": "python",
   "nbconvert_exporter": "python",
   "pygments_lexer": "ipython3",
   "version": "3.6.4"
  }
 },
 "nbformat": 4,
 "nbformat_minor": 2
}
